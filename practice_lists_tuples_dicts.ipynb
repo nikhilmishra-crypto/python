{
 "cells": [
  {
   "cell_type": "markdown",
   "id": "013e89ff",
   "metadata": {},
   "source": [
    "# Practice Notebook — Lists, Tuples, and Dictionaries\n",
    "\n",
    "This notebook contains **10 very simple practice questions** based on what you learned about Lists, Tuples, and Dictionaries. Each question follows the structure:\n",
    "1. **Instructions** (Markdown)\n",
    "2. **Code cell** with blank area to fill in\n",
    "3. **Expected Answer** (Markdown)\n",
    "\n",
    "Try to solve before checking the expected answer! 🚀"
   ]
  },
  {
   "cell_type": "markdown",
   "id": "5b2e78b2",
   "metadata": {},
   "source": [
    "## Question 1 (List)\n",
    "\n",
    "Create a list of 3 fruits: `'apple'`, `'banana'`, `'cherry'` and print it."
   ]
  },
  {
   "cell_type": "code",
   "execution_count": null,
   "id": "426af630",
   "metadata": {},
   "outputs": [],
   "source": [
    "# Your code here\n"
   ]
  },
  {
   "cell_type": "markdown",
   "id": "445d848b",
   "metadata": {},
   "source": [
    "**Expected Answer:**\n",
    "```python\n",
    "['apple', 'banana', 'cherry']\n",
    "```"
   ]
  },
  {
   "cell_type": "markdown",
   "id": "8132a07d",
   "metadata": {},
   "source": [
    "## Question 2 (List)\n",
    "\n",
    "Take the list `numbers = [1, 2, 3, 4]`. Append the number `5` to the end and print the updated list."
   ]
  },
  {
   "cell_type": "code",
   "execution_count": null,
   "id": "e19a56c9",
   "metadata": {},
   "outputs": [],
   "source": [
    "numbers = [1, 2, 3, 4]\n",
    "# Your code here\n"
   ]
  },
  {
   "cell_type": "markdown",
   "id": "38be138c",
   "metadata": {},
   "source": [
    "**Expected Answer:**\n",
    "```python\n",
    "[1, 2, 3, 4, 5]\n",
    "```"
   ]
  },
  {
   "cell_type": "markdown",
   "id": "8f64aa3e",
   "metadata": {},
   "source": [
    "## Question 3 (List)\n",
    "\n",
    "From the list `colors = ['red','green','blue']`, remove `'green'` and print the result."
   ]
  },
  {
   "cell_type": "code",
   "execution_count": null,
   "id": "8be5f155",
   "metadata": {},
   "outputs": [],
   "source": [
    "colors = ['red','green','blue']\n",
    "# Your code here\n"
   ]
  },
  {
   "cell_type": "markdown",
   "id": "52b7925f",
   "metadata": {},
   "source": [
    "**Expected Answer:**\n",
    "```python\n",
    "['red', 'blue']\n",
    "```"
   ]
  },
  {
   "cell_type": "markdown",
   "id": "3e93d231",
   "metadata": {},
   "source": [
    "## Question 4 (Tuple)\n",
    "\n",
    "Create a tuple with 3 numbers: `10, 20, 30` and print it."
   ]
  },
  {
   "cell_type": "code",
   "execution_count": null,
   "id": "844e43a8",
   "metadata": {},
   "outputs": [],
   "source": [
    "# Your code here\n"
   ]
  },
  {
   "cell_type": "markdown",
   "id": "7bbcc35c",
   "metadata": {},
   "source": [
    "**Expected Answer:**\n",
    "```python\n",
    "(10, 20, 30)\n",
    "```"
   ]
  },
  {
   "cell_type": "markdown",
   "id": "c613a872",
   "metadata": {},
   "source": [
    "## Question 5 (Tuple)\n",
    "\n",
    "Given `t = (5, 10, 15)`, print the second element (index 1)."
   ]
  },
  {
   "cell_type": "code",
   "execution_count": null,
   "id": "b355f377",
   "metadata": {},
   "outputs": [],
   "source": [
    "t = (5, 10, 15)\n",
    "# Your code here\n"
   ]
  },
  {
   "cell_type": "markdown",
   "id": "dc1a5b7c",
   "metadata": {},
   "source": [
    "**Expected Answer:**\n",
    "```python\n",
    "10\n",
    "```"
   ]
  },
  {
   "cell_type": "markdown",
   "id": "8fb49e0c",
   "metadata": {},
   "source": [
    "## Question 6 (Tuple)\n",
    "\n",
    "Given `t = (1, 2, 3)`, convert it into a list, change the last element to `99`, and print the new list."
   ]
  },
  {
   "cell_type": "code",
   "execution_count": null,
   "id": "e060e70c",
   "metadata": {},
   "outputs": [],
   "source": [
    "t = (1, 2, 3)\n",
    "# Your code here\n"
   ]
  },
  {
   "cell_type": "markdown",
   "id": "2cb682dd",
   "metadata": {},
   "source": [
    "**Expected Answer:**\n",
    "```python\n",
    "[1, 2, 99]\n",
    "```"
   ]
  },
  {
   "cell_type": "markdown",
   "id": "2561fcc5",
   "metadata": {},
   "source": [
    "## Question 7 (Dictionary)\n",
    "\n",
    "Create a dictionary with keys `'name'` and `'age'`, values `'Alice'` and `25`. Print the dictionary."
   ]
  },
  {
   "cell_type": "code",
   "execution_count": null,
   "id": "c0b8ff30",
   "metadata": {},
   "outputs": [],
   "source": [
    "# Your code here\n"
   ]
  },
  {
   "cell_type": "markdown",
   "id": "2dc88c48",
   "metadata": {},
   "source": [
    "**Expected Answer:**\n",
    "```python\n",
    "{'name': 'Alice', 'age': 25}\n",
    "```"
   ]
  },
  {
   "cell_type": "markdown",
   "id": "e76bd866",
   "metadata": {},
   "source": [
    "## Question 8 (Dictionary)\n",
    "\n",
    "Given `student = {'name':'Bob', 'score':90}`, update the score to `95` and print the dictionary."
   ]
  },
  {
   "cell_type": "code",
   "execution_count": null,
   "id": "174f1aa7",
   "metadata": {},
   "outputs": [],
   "source": [
    "student = {'name':'Bob', 'score':90}\n",
    "# Your code here\n"
   ]
  },
  {
   "cell_type": "markdown",
   "id": "3551d791",
   "metadata": {},
   "source": [
    "**Expected Answer:**\n",
    "```python\n",
    "{'name': 'Bob', 'score': 95}\n",
    "```"
   ]
  },
  {
   "cell_type": "markdown",
   "id": "74027622",
   "metadata": {},
   "source": [
    "## Question 9 (Dictionary)\n",
    "\n",
    "Given `d = {'a':1, 'b':2, 'c':3}`, print all the keys of the dictionary."
   ]
  },
  {
   "cell_type": "code",
   "execution_count": null,
   "id": "4aa04024",
   "metadata": {},
   "outputs": [],
   "source": [
    "d = {'a':1, 'b':2, 'c':3}\n",
    "# Your code here\n"
   ]
  },
  {
   "cell_type": "markdown",
   "id": "d7608a2c",
   "metadata": {},
   "source": [
    "**Expected Answer:**\n",
    "```python\n",
    "['a', 'b', 'c']\n",
    "```"
   ]
  },
  {
   "cell_type": "markdown",
   "id": "5d4440f1",
   "metadata": {},
   "source": [
    "## Question 10 (Mix)\n",
    "\n",
    "You are given a list of tuples: `students = [('Alice', 85), ('Bob', 90)]`. Convert it into a dictionary where name is the key and score is the value. Print the dictionary."
   ]
  },
  {
   "cell_type": "code",
   "execution_count": null,
   "id": "9466a27a",
   "metadata": {},
   "outputs": [],
   "source": [
    "students = [('Alice', 85), ('Bob', 90)]\n",
    "# Your code here\n"
   ]
  },
  {
   "cell_type": "markdown",
   "id": "3389df52",
   "metadata": {},
   "source": [
    "**Expected Answer:**\n",
    "```python\n",
    "{'Alice': 85, 'Bob': 90}\n",
    "```"
   ]
  }
 ],
 "metadata": {},
 "nbformat": 4,
 "nbformat_minor": 5
}
